{
  "nbformat": 4,
  "nbformat_minor": 0,
  "metadata": {
    "colab": {
      "provenance": []
    },
    "kernelspec": {
      "name": "python3",
      "display_name": "Python 3"
    },
    "language_info": {
      "name": "python"
    }
  },
  "cells": [
    {
      "cell_type": "code",
      "execution_count": 3,
      "metadata": {
        "id": "U6TfSFwM1UUf"
      },
      "outputs": [],
      "source": [
        "# STEP 1: Import libraries\n",
        "import pandas as pd\n",
        "import numpy as np\n",
        "import matplotlib.pyplot as plt\n",
        "import seaborn as sns"
      ]
    },
    {
      "cell_type": "code",
      "source": [
        "# STEP 2: Combine CSV files\n",
        "csv_files = [\n",
        "    '/content/financial_data_batch_0.csv',\n",
        "    '/content/financial_data_batch_1.csv',\n",
        "    '/content/financial_data_batch_2.csv',\n",
        "    '/content/financial_data_batch_3.csv',\n",
        "    '/content/financial_data_batch_4.csv'\n",
        "]\n",
        "\n",
        "combined_df = pd.concat([pd.read_csv(file) for file in csv_files], ignore_index=True)\n",
        "combined_df.to_csv('combined_output.csv', index=False)\n",
        "print(\" Combined CSVs into 'combined_output.csv'\")\n",
        "\n",
        "# STEP 3: Filter required tags and pivot the data\n",
        "tags = [\n",
        "    \"RevenueFromContractWithCustomerExcludingAssessedTax\", \"GrossProfit\", \"NetIncomeLoss\",\n",
        "    \"ResearchAndDevelopmentExpense\", \"Assets\", \"Liabilities\", \"StockholdersEquity\",\n",
        "    \"OperatingIncomeLoss\", \"AssetsCurrent\", \"LiabilitiesCurrent\"\n",
        "]\n",
        "\n",
        "df = pd.read_csv(\"combined_output.csv\")\n",
        "df_filtered = df[df['tag'].isin(tags)]\n",
        "\n",
        "pivot = df_filtered.pivot_table(\n",
        "    index=['name', 'cik'],\n",
        "    columns='tag',\n",
        "    values='value',\n",
        "    aggfunc='first'\n",
        ").reset_index()\n",
        "\n",
        "# STEP 4: Calculate financial ratios\n",
        "pivot['NetMargin'] = pivot['NetIncomeLoss'] / pivot['RevenueFromContractWithCustomerExcludingAssessedTax']\n",
        "pivot['GrossMargin'] = pivot['GrossProfit'] / pivot['RevenueFromContractWithCustomerExcludingAssessedTax']\n",
        "pivot['R&D_to_Revenue'] = pivot['ResearchAndDevelopmentExpense'] / pivot['RevenueFromContractWithCustomerExcludingAssessedTax']\n",
        "pivot['ROA'] = pivot['NetIncomeLoss'] / pivot['Assets']\n",
        "pivot['ROE'] = pivot['NetIncomeLoss'] / pivot['StockholdersEquity']\n",
        "pivot['DebtToEquity'] = pivot['Liabilities'] / pivot['StockholdersEquity']\n",
        "pivot['CurrentRatio'] = pivot['AssetsCurrent'] / pivot['LiabilitiesCurrent']\n",
        "pivot['ROS'] = pivot['OperatingIncomeLoss'] / pivot['RevenueFromContractWithCustomerExcludingAssessedTax']\n",
        "\n",
        "# STEP 5: Clean missing and infinite values\n",
        "pivot.replace([np.inf, -np.inf], np.nan, inplace=True)\n",
        "pivot = pivot.dropna(subset=[\n",
        "    'RevenueFromContractWithCustomerExcludingAssessedTax',\n",
        "    'NetIncomeLoss', 'Assets', 'Liabilities', 'StockholdersEquity'\n",
        "])\n",
        "\n",
        "# STEP 6: Export cleaned and calculated data\n",
        "pivot.to_csv(\"financial_ratios_cleaned.csv\", index=False)\n",
        "print(\"✅ Exported final cleaned and enriched data to 'financial_ratios_cleaned.csv'\")\n"
      ],
      "metadata": {
        "id": "91_zNu_v192y"
      },
      "execution_count": null,
      "outputs": []
    }
  ]
}